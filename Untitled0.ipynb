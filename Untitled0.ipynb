{
  "nbformat": 4,
  "nbformat_minor": 0,
  "metadata": {
    "colab": {
      "name": "Untitled0.ipynb",
      "provenance": [],
      "include_colab_link": true
    },
    "kernelspec": {
      "name": "python3",
      "display_name": "Python 3"
    }
  },
  "cells": [
    {
      "cell_type": "markdown",
      "metadata": {
        "id": "view-in-github",
        "colab_type": "text"
      },
      "source": [
        "<a href=\"https://colab.research.google.com/github/sravani369/AI-lab/blob/master/Untitled0.ipynb\" target=\"_parent\"><img src=\"https://colab.research.google.com/assets/colab-badge.svg\" alt=\"Open In Colab\"/></a>"
      ]
    },
    {
      "cell_type": "code",
      "metadata": {
        "id": "ob4rbJl1eofm",
        "colab_type": "code",
        "colab": {}
      },
      "source": [
        ""
      ],
      "execution_count": null,
      "outputs": []
    },
    {
      "cell_type": "markdown",
      "metadata": {
        "id": "jAcu-3C_e83k",
        "colab_type": "text"
      },
      "source": [
        "#Experiment No1:Numpy\n"
      ]
    },
    {
      "cell_type": "markdown",
      "metadata": {
        "id": "frPYxllM-ZFv",
        "colab_type": "text"
      },
      "source": [
        "##1)Different ways to create numpy arrays\n",
        "\n",
        "###a)using arrange function\n"
      ]
    },
    {
      "cell_type": "code",
      "metadata": {
        "id": "yaRwAI9rfSjn",
        "colab_type": "code",
        "colab": {
          "base_uri": "https://localhost:8080/",
          "height": 34
        },
        "outputId": "9b3365a2-2a4c-44fe-821e-61d175c31fef"
      },
      "source": [
        "#import NUMPY library as np\n",
        "import numpy as np\n",
        "x = np.array([1,2,3])\n",
        "print(x)"
      ],
      "execution_count": null,
      "outputs": [
        {
          "output_type": "stream",
          "text": [
            "[1 2 3]\n"
          ],
          "name": "stdout"
        }
      ]
    },
    {
      "cell_type": "markdown",
      "metadata": {
        "id": "RIOFMFQq_XTu",
        "colab_type": "text"
      },
      "source": [
        "###b)using general method"
      ]
    },
    {
      "cell_type": "code",
      "metadata": {
        "id": "q4fLZjSsfyxO",
        "colab_type": "code",
        "colab": {
          "base_uri": "https://localhost:8080/",
          "height": 51
        },
        "outputId": "eed03f8a-5f27-4406-fc90-ec8b25bfa8b0"
      },
      "source": [
        "y = np.array([[4,5,6],[7,8,9]])#an array of odd numbers created using numpy\n",
        "print(y)"
      ],
      "execution_count": null,
      "outputs": [
        {
          "output_type": "stream",
          "text": [
            "[[4 5 6]\n",
            " [7 8 9]]\n"
          ],
          "name": "stdout"
        }
      ]
    },
    {
      "cell_type": "markdown",
      "metadata": {
        "id": "VtDpuwbDgGeT",
        "colab_type": "text"
      },
      "source": [
        "##2) Add,remove,modify elements in an array."
      ]
    },
    {
      "cell_type": "markdown",
      "metadata": {
        "id": "VCMt3S-xgYLn",
        "colab_type": "text"
      },
      "source": [
        "###Add"
      ]
    },
    {
      "cell_type": "code",
      "metadata": {
        "id": "3ySk3fQ4ggew",
        "colab_type": "code",
        "colab": {
          "base_uri": "https://localhost:8080/",
          "height": 34
        },
        "outputId": "213e6a65-2ef4-4b02-f0ab-216c73bde9d9"
      },
      "source": [
        "b = np.append(y,[6,4,2])#joining to arrays\n",
        "print(b)"
      ],
      "execution_count": null,
      "outputs": [
        {
          "output_type": "stream",
          "text": [
            "[4 5 6 7 8 9 6 4 2]\n"
          ],
          "name": "stdout"
        }
      ]
    },
    {
      "cell_type": "markdown",
      "metadata": {
        "id": "zOP5ntvhgtuI",
        "colab_type": "text"
      },
      "source": [
        "###removing elements from the array"
      ]
    },
    {
      "cell_type": "code",
      "metadata": {
        "id": "sWNPIKRkgwfs",
        "colab_type": "code",
        "colab": {
          "base_uri": "https://localhost:8080/",
          "height": 34
        },
        "outputId": "4132b33e-acc1-457a-8782-6dc45d93f362"
      },
      "source": [
        "newarray = np.delete(x,2)#removes the elements in that index\n",
        "print(newarray)"
      ],
      "execution_count": null,
      "outputs": [
        {
          "output_type": "stream",
          "text": [
            "[1 2]\n"
          ],
          "name": "stdout"
        }
      ]
    },
    {
      "cell_type": "markdown",
      "metadata": {
        "id": "9Sm9aK_Mg5h3",
        "colab_type": "text"
      },
      "source": [
        "###modifying elements in an array"
      ]
    },
    {
      "cell_type": "code",
      "metadata": {
        "id": "xBYnB_KWg7ST",
        "colab_type": "code",
        "colab": {
          "base_uri": "https://localhost:8080/",
          "height": 34
        },
        "outputId": "2269e22d-92f6-4087-a054-3147ba0c9d48"
      },
      "source": [
        "b = np.array([6,4,1,3,5,9])#modifying the elements in the array\n",
        "b[b<2] = -1\n",
        "print(b)"
      ],
      "execution_count": null,
      "outputs": [
        {
          "output_type": "stream",
          "text": [
            "[ 6  4 -1  3  5  9]\n"
          ],
          "name": "stdout"
        }
      ]
    },
    {
      "cell_type": "markdown",
      "metadata": {
        "id": "NeX92PPthNba",
        "colab_type": "text"
      },
      "source": [
        "##3)Arthematic operations on Numpy array."
      ]
    },
    {
      "cell_type": "code",
      "metadata": {
        "id": "UH3SJTb9hXXe",
        "colab_type": "code",
        "colab": {
          "base_uri": "https://localhost:8080/",
          "height": 997
        },
        "outputId": "926652a7-84e5-4c13-9107-736a2b0cb8a9"
      },
      "source": [
        "import numpy as np\n",
        "s = np.random.random((4,4))\n",
        "r = np.random.random((4,4))\n",
        "sum = np.add(s,r)#adds the elements\n",
        "diff = np.subtract(s,r)#subracts the elements \n",
        "prod = np.multiply(s,r)#multiply the elements\n",
        "quo = np.divide(s,r)#divide the elements\n",
        "mod = np.mod(s,r)#remainder of the elements arrives\n",
        "pow = np.power(s,r)#pow \n",
        "print(sum)\n",
        "print(diff)\n",
        "print(prod)\n",
        "print(quo)\n",
        "print(mod)\n",
        "print(pow)"
      ],
      "execution_count": null,
      "outputs": [
        {
          "output_type": "stream",
          "text": [
            "[[1.07622456 1.37161027 1.5803773  1.48826776]\n",
            " [0.82701459 0.19882292 1.18222674 1.18702632]\n",
            " [0.54484426 1.09119416 1.29288925 0.63491267]\n",
            " [1.14666127 1.0791083  0.57597508 1.03500214]]\n",
            "[[ 0.50020059 -0.55707328 -0.3663058  -0.23654576]\n",
            " [-0.58873522  0.07245721  0.52783214 -0.68901575]\n",
            " [ 0.11082819 -0.86988514  0.47339043  0.59620998]\n",
            " [-0.12746973 -0.70796119 -0.11222485  0.68475983]]\n",
            "[[0.22701467 0.39274602 0.59085312 0.53974676]\n",
            " [0.084336   0.00857013 0.27976332 0.2335722 ]\n",
            " [0.07114309 0.10850113 0.36186603 0.01191194]\n",
            " [0.32464588 0.16581642 0.07978822 0.15058335]]\n",
            "[[ 2.73673533  0.42232796  0.6236616   0.72571439]\n",
            " [ 0.16830613  2.14678594  2.61319221  0.2654581 ]\n",
            " [ 1.51071007  0.11285062  2.15531694 31.80973886]\n",
            " [ 0.79991111  0.20768477  0.67385974  4.91020621]]\n",
            "[[0.21218861 0.40726849 0.60703575 0.625861  ]\n",
            " [0.11913969 0.00927436 0.20063484 0.24900529]\n",
            " [0.11082819 0.11065451 0.06364102 0.01566954]\n",
            " [0.50959577 0.18557355 0.23187511 0.15939636]]\n",
            "[[0.93375308 0.42052495 0.61516758 0.66754593]\n",
            " [0.22180103 0.88141776 0.95004546 0.27141318]\n",
            " [0.7850434  0.11549783 0.95035445 0.99065427]\n",
            " [0.65085413 0.22202082 0.60476127 0.97390987]]\n"
          ],
          "name": "stdout"
        }
      ]
    },
    {
      "cell_type": "markdown",
      "metadata": {
        "id": "eMbWIiy4iPWe",
        "colab_type": "text"
      },
      "source": [
        "4)Slicing and iterating of numpy arrays."
      ]
    },
    {
      "cell_type": "markdown",
      "metadata": {
        "id": "ZiVRi50_iXnS",
        "colab_type": "text"
      },
      "source": [
        "#Slicing"
      ]
    },
    {
      "cell_type": "code",
      "metadata": {
        "id": "ryG4nFq6ijv4",
        "colab_type": "code",
        "colab": {
          "base_uri": "https://localhost:8080/",
          "height": 34
        },
        "outputId": "3be3949b-85ef-4f06-f037-454b5144f0c4"
      },
      "source": [
        "import numpy as np\n",
        "arrays = np.array([1,2,3,4,5,6,7])\n",
        "print(arrays[2:4])#slicing the array"
      ],
      "execution_count": null,
      "outputs": [
        {
          "output_type": "stream",
          "text": [
            "[3 4]\n"
          ],
          "name": "stdout"
        }
      ]
    },
    {
      "cell_type": "markdown",
      "metadata": {
        "id": "zKeQ-TWMi1vn",
        "colab_type": "text"
      },
      "source": [
        "#iterating"
      ]
    },
    {
      "cell_type": "code",
      "metadata": {
        "id": "6xPFnUtIi651",
        "colab_type": "code",
        "colab": {
          "base_uri": "https://localhost:8080/",
          "height": 136
        },
        "outputId": "8b247d05-d29a-4f0c-a5b2-37dbfde4bc1d"
      },
      "source": [
        "for y in arrays:\n",
        "  print(y)"
      ],
      "execution_count": null,
      "outputs": [
        {
          "output_type": "stream",
          "text": [
            "1\n",
            "2\n",
            "3\n",
            "4\n",
            "5\n",
            "6\n",
            "7\n"
          ],
          "name": "stdout"
        }
      ]
    },
    {
      "cell_type": "markdown",
      "metadata": {
        "id": "-S4BP3MjjB8w",
        "colab_type": "text"
      },
      "source": [
        "5)Matrix operation on numpy arrays."
      ]
    },
    {
      "cell_type": "code",
      "metadata": {
        "id": "dWoERWbyjISy",
        "colab_type": "code",
        "colab": {
          "base_uri": "https://localhost:8080/",
          "height": 85
        },
        "outputId": "fb3cc931-043b-4adb-dce6-d6fffb53c39d"
      },
      "source": [
        "import numpy as np\n",
        "a = np.array([[3,4],[1,2]])\n",
        "b = np.array([[7,8],[5,6]])\n",
        "print(np.add(a,b))\n",
        "print(np.divide(a,b))"
      ],
      "execution_count": null,
      "outputs": [
        {
          "output_type": "stream",
          "text": [
            "[[10 12]\n",
            " [ 6  8]]\n",
            "[[0.42857143 0.5       ]\n",
            " [0.2        0.33333333]]\n"
          ],
          "name": "stdout"
        }
      ]
    }
  ]
}