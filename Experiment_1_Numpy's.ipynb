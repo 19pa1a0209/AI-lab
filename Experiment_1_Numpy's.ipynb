{
  "nbformat": 4,
  "nbformat_minor": 0,
  "metadata": {
    "colab": {
      "name": "Untitled0.ipynb",
      "provenance": [],
      "include_colab_link": true
    },
    "kernelspec": {
      "name": "python3",
      "display_name": "Python 3"
    }
  },
  "cells": [
    {
      "cell_type": "markdown",
      "metadata": {
        "id": "view-in-github",
        "colab_type": "text"
      },
      "source": [
        "<a href=\"https://colab.research.google.com/github/19pa1a0209/AI-lab/blob/master/Experiment_1_Numpy's.ipynb\" target=\"_parent\"><img src=\"https://colab.research.google.com/assets/colab-badge.svg\" alt=\"Open In Colab\"/></a>"
      ]
    },
    {
      "cell_type": "code",
      "metadata": {
        "id": "ob4rbJl1eofm",
        "colab_type": "code",
        "colab": {}
      },
      "source": [
        ""
      ],
      "execution_count": null,
      "outputs": []
    },
    {
      "cell_type": "markdown",
      "metadata": {
        "id": "jAcu-3C_e83k",
        "colab_type": "text"
      },
      "source": [
        "Experiment No1:Numpy"
      ]
    },
    {
      "cell_type": "markdown",
      "metadata": {
        "id": "9-DBqXaqfEQg",
        "colab_type": "text"
      },
      "source": [
        "1)Different ways to create a Numpy arrays."
      ]
    },
    {
      "cell_type": "code",
      "metadata": {
        "id": "yaRwAI9rfSjn",
        "colab_type": "code",
        "colab": {
          "base_uri": "https://localhost:8080/",
          "height": 34
        },
        "outputId": "9b3365a2-2a4c-44fe-821e-61d175c31fef"
      },
      "source": [
        "import numpy as np\n",
        "x = np.array([1,2,3])\n",
        "print(x)"
      ],
      "execution_count": null,
      "outputs": [
        {
          "output_type": "stream",
          "text": [
            "[1 2 3]\n"
          ],
          "name": "stdout"
        }
      ]
    },
    {
      "cell_type": "code",
      "metadata": {
        "id": "q4fLZjSsfyxO",
        "colab_type": "code",
        "colab": {
          "base_uri": "https://localhost:8080/",
          "height": 51
        },
        "outputId": "eed03f8a-5f27-4406-fc90-ec8b25bfa8b0"
      },
      "source": [
        "y = np.array([[4,5,6],[7,8,9]])\n",
        "print(y)"
      ],
      "execution_count": null,
      "outputs": [
        {
          "output_type": "stream",
          "text": [
            "[[4 5 6]\n",
            " [7 8 9]]\n"
          ],
          "name": "stdout"
        }
      ]
    },
    {
      "cell_type": "markdown",
      "metadata": {
        "id": "VtDpuwbDgGeT",
        "colab_type": "text"
      },
      "source": [
        "2) Add,remove,modify elements in an array."
      ]
    },
    {
      "cell_type": "markdown",
      "metadata": {
        "id": "VCMt3S-xgYLn",
        "colab_type": "text"
      },
      "source": [
        "#Add"
      ]
    },
    {
      "cell_type": "code",
      "metadata": {
        "id": "3ySk3fQ4ggew",
        "colab_type": "code",
        "colab": {
          "base_uri": "https://localhost:8080/",
          "height": 34
        },
        "outputId": "213e6a65-2ef4-4b02-f0ab-216c73bde9d9"
      },
      "source": [
        "b = np.append(y,[6,4,2])\n",
        "print(b)"
      ],
      "execution_count": null,
      "outputs": [
        {
          "output_type": "stream",
          "text": [
            "[4 5 6 7 8 9 6 4 2]\n"
          ],
          "name": "stdout"
        }
      ]
    },
    {
      "cell_type": "markdown",
      "metadata": {
        "id": "zOP5ntvhgtuI",
        "colab_type": "text"
      },
      "source": [
        "#remove"
      ]
    },
    {
      "cell_type": "code",
      "metadata": {
        "id": "sWNPIKRkgwfs",
        "colab_type": "code",
        "colab": {
          "base_uri": "https://localhost:8080/",
          "height": 34
        },
        "outputId": "4132b33e-acc1-457a-8782-6dc45d93f362"
      },
      "source": [
        "newarray = np.delete(x,2)\n",
        "print(newarray)"
      ],
      "execution_count": null,
      "outputs": [
        {
          "output_type": "stream",
          "text": [
            "[1 2]\n"
          ],
          "name": "stdout"
        }
      ]
    },
    {
      "cell_type": "markdown",
      "metadata": {
        "id": "9Sm9aK_Mg5h3",
        "colab_type": "text"
      },
      "source": [
        "#modify"
      ]
    },
    {
      "cell_type": "code",
      "metadata": {
        "id": "xBYnB_KWg7ST",
        "colab_type": "code",
        "colab": {
          "base_uri": "https://localhost:8080/",
          "height": 34
        },
        "outputId": "2269e22d-92f6-4087-a054-3147ba0c9d48"
      },
      "source": [
        "b = np.array([6,4,1,3,5,9])\n",
        "b[b<2] = -1\n",
        "print(b)"
      ],
      "execution_count": null,
      "outputs": [
        {
          "output_type": "stream",
          "text": [
            "[ 6  4 -1  3  5  9]\n"
          ],
          "name": "stdout"
        }
      ]
    },
    {
      "cell_type": "markdown",
      "metadata": {
        "id": "NeX92PPthNba",
        "colab_type": "text"
      },
      "source": [
        "3)Arthematic operations on Numpy array."
      ]
    },
    {
      "cell_type": "code",
      "metadata": {
        "id": "UH3SJTb9hXXe",
        "colab_type": "code",
        "colab": {
          "base_uri": "https://localhost:8080/",
          "height": 218
        },
        "outputId": "d17614b8-cad7-488f-a541-41341a0c3235"
      },
      "source": [
        "import numpy as np\n",
        "s = np.array([[4,4,4],[4,4,4]])\n",
        "r = np.array([[4,4,4],[4,4,4]])#creates 2d arrays\n",
        "sum = np.add(s,r)#adds the elements in two arrays\n",
        "diff = np.subtract(s,r)#subtracts the elements in two arrays \n",
        "prod = np.multiply(s,r)#multiply the elements in the two arrays\n",
        "quo = np.divide(s,r)#divides the elements in the two arrays\n",
        "mod = np.mod(s,r)#it gives the remainder of the elements in two arrays\n",
        "pow = np.power(s,r)\n",
        "print(sum)\n",
        "print(diff)\n",
        "print(prod)\n",
        "print(quo)\n",
        "print(mod)\n",
        "print(pow)"
      ],
      "execution_count": 2,
      "outputs": [
        {
          "output_type": "stream",
          "text": [
            "[[8 8 8]\n",
            " [8 8 8]]\n",
            "[[0 0 0]\n",
            " [0 0 0]]\n",
            "[[16 16 16]\n",
            " [16 16 16]]\n",
            "[[1. 1. 1.]\n",
            " [1. 1. 1.]]\n",
            "[[0 0 0]\n",
            " [0 0 0]]\n",
            "[[256 256 256]\n",
            " [256 256 256]]\n"
          ],
          "name": "stdout"
        }
      ]
    },
    {
      "cell_type": "markdown",
      "metadata": {
        "id": "eMbWIiy4iPWe",
        "colab_type": "text"
      },
      "source": [
        "4)Slicing and iterating of numpy arrays."
      ]
    },
    {
      "cell_type": "markdown",
      "metadata": {
        "id": "ZiVRi50_iXnS",
        "colab_type": "text"
      },
      "source": [
        "#Slicing"
      ]
    },
    {
      "cell_type": "code",
      "metadata": {
        "id": "ryG4nFq6ijv4",
        "colab_type": "code",
        "colab": {
          "base_uri": "https://localhost:8080/",
          "height": 34
        },
        "outputId": "3be3949b-85ef-4f06-f037-454b5144f0c4"
      },
      "source": [
        "import numpy as np\n",
        "arrays = np.array([1,2,3,4,5,6,7])\n",
        "print(arrays[2:4])"
      ],
      "execution_count": null,
      "outputs": [
        {
          "output_type": "stream",
          "text": [
            "[3 4]\n"
          ],
          "name": "stdout"
        }
      ]
    },
    {
      "cell_type": "markdown",
      "metadata": {
        "id": "zKeQ-TWMi1vn",
        "colab_type": "text"
      },
      "source": [
        "#iterating"
      ]
    },
    {
      "cell_type": "code",
      "metadata": {
        "id": "6xPFnUtIi651",
        "colab_type": "code",
        "colab": {
          "base_uri": "https://localhost:8080/",
          "height": 136
        },
        "outputId": "8b247d05-d29a-4f0c-a5b2-37dbfde4bc1d"
      },
      "source": [
        "for y in arrays:\n",
        "  print(y)"
      ],
      "execution_count": null,
      "outputs": [
        {
          "output_type": "stream",
          "text": [
            "1\n",
            "2\n",
            "3\n",
            "4\n",
            "5\n",
            "6\n",
            "7\n"
          ],
          "name": "stdout"
        }
      ]
    },
    {
      "cell_type": "markdown",
      "metadata": {
        "id": "-S4BP3MjjB8w",
        "colab_type": "text"
      },
      "source": [
        "5)Matrix operation on numpy arrays."
      ]
    },
    {
      "cell_type": "code",
      "metadata": {
        "id": "dWoERWbyjISy",
        "colab_type": "code",
        "colab": {
          "base_uri": "https://localhost:8080/",
          "height": 85
        },
        "outputId": "fb3cc931-043b-4adb-dce6-d6fffb53c39d"
      },
      "source": [
        "import numpy as np\n",
        "a = np.array([[3,4],[1,2]])\n",
        "b = np.array([[7,8],[5,6]])\n",
        "print(np.add(a,b))\n",
        "print(np.divide(a,b))"
      ],
      "execution_count": null,
      "outputs": [
        {
          "output_type": "stream",
          "text": [
            "[[10 12]\n",
            " [ 6  8]]\n",
            "[[0.42857143 0.5       ]\n",
            " [0.2        0.33333333]]\n"
          ],
          "name": "stdout"
        }
      ]
    }
  ]
}