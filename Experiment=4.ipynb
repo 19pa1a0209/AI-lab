{
  "nbformat": 4,
  "nbformat_minor": 0,
  "metadata": {
    "colab": {
      "name": "Experiment=4.ipynb",
      "provenance": [],
      "collapsed_sections": [],
      "authorship_tag": "ABX9TyPadsySL/VKrGvXrXDLfyXM",
      "include_colab_link": true
    },
    "kernelspec": {
      "name": "python3",
      "display_name": "Python 3"
    }
  },
  "cells": [
    {
      "cell_type": "markdown",
      "metadata": {
        "id": "view-in-github",
        "colab_type": "text"
      },
      "source": [
        "<a href=\"https://colab.research.google.com/github/19pa1a0209/AI-lab/blob/master/Experiment%3D4.ipynb\" target=\"_parent\"><img src=\"https://colab.research.google.com/assets/colab-badge.svg\" alt=\"Open In Colab\"/></a>"
      ]
    },
    {
      "cell_type": "markdown",
      "metadata": {
        "id": "haCalPGyqv04"
      },
      "source": [
        "#EXPERIMENT:4\n"
      ]
    },
    {
      "cell_type": "code",
      "metadata": {
        "id": "FBs77VaLq29i"
      },
      "source": [
        "import numpy as np\n",
        "import pandas as pd\n",
        "import seaborn as sns\n",
        "import matplotlib.pyplot as plt"
      ],
      "execution_count": null,
      "outputs": []
    },
    {
      "cell_type": "markdown",
      "metadata": {
        "id": "jDQQDRIJq_BM"
      },
      "source": [
        "##Import The Data"
      ]
    },
    {
      "cell_type": "code",
      "metadata": {
        "id": "azvgHFkjrKs_",
        "outputId": "cae9d7b3-4612-4b50-98eb-7469c06fc259",
        "colab": {
          "base_uri": "https://localhost:8080/",
          "height": 195
        }
      },
      "source": [
        "df = pd.read_csv(\"/students_placement_data.csv\")\n",
        "df.head()"
      ],
      "execution_count": null,
      "outputs": [
        {
          "output_type": "execute_result",
          "data": {
            "text/html": [
              "<div>\n",
              "<style scoped>\n",
              "    .dataframe tbody tr th:only-of-type {\n",
              "        vertical-align: middle;\n",
              "    }\n",
              "\n",
              "    .dataframe tbody tr th {\n",
              "        vertical-align: top;\n",
              "    }\n",
              "\n",
              "    .dataframe thead th {\n",
              "        text-align: right;\n",
              "    }\n",
              "</style>\n",
              "<table border=\"1\" class=\"dataframe\">\n",
              "  <thead>\n",
              "    <tr style=\"text-align: right;\">\n",
              "      <th></th>\n",
              "      <th>Roll No</th>\n",
              "      <th>Gender</th>\n",
              "      <th>Section</th>\n",
              "      <th>SSC Percentage</th>\n",
              "      <th>inter_Diploma_percentage</th>\n",
              "      <th>B.Tech_percentage</th>\n",
              "      <th>Backlogs</th>\n",
              "      <th>registered_for_ Placement_Training</th>\n",
              "      <th>placement status</th>\n",
              "    </tr>\n",
              "  </thead>\n",
              "  <tbody>\n",
              "    <tr>\n",
              "      <th>0</th>\n",
              "      <td>1</td>\n",
              "      <td>M</td>\n",
              "      <td>A</td>\n",
              "      <td>87.3</td>\n",
              "      <td>65.3</td>\n",
              "      <td>40.00</td>\n",
              "      <td>18</td>\n",
              "      <td>NO</td>\n",
              "      <td>Not placed</td>\n",
              "    </tr>\n",
              "    <tr>\n",
              "      <th>1</th>\n",
              "      <td>2</td>\n",
              "      <td>F</td>\n",
              "      <td>A</td>\n",
              "      <td>89.0</td>\n",
              "      <td>92.4</td>\n",
              "      <td>71.45</td>\n",
              "      <td>0</td>\n",
              "      <td>yes</td>\n",
              "      <td>Placed</td>\n",
              "    </tr>\n",
              "    <tr>\n",
              "      <th>2</th>\n",
              "      <td>3</td>\n",
              "      <td>F</td>\n",
              "      <td>A</td>\n",
              "      <td>67.0</td>\n",
              "      <td>68.0</td>\n",
              "      <td>45.26</td>\n",
              "      <td>13</td>\n",
              "      <td>yes</td>\n",
              "      <td>Not placed</td>\n",
              "    </tr>\n",
              "    <tr>\n",
              "      <th>3</th>\n",
              "      <td>4</td>\n",
              "      <td>M</td>\n",
              "      <td>A</td>\n",
              "      <td>71.0</td>\n",
              "      <td>70.4</td>\n",
              "      <td>36.47</td>\n",
              "      <td>17</td>\n",
              "      <td>yes</td>\n",
              "      <td>Not placed</td>\n",
              "    </tr>\n",
              "    <tr>\n",
              "      <th>4</th>\n",
              "      <td>5</td>\n",
              "      <td>M</td>\n",
              "      <td>A</td>\n",
              "      <td>NaN</td>\n",
              "      <td>65.5</td>\n",
              "      <td>42.52</td>\n",
              "      <td>17</td>\n",
              "      <td>yes</td>\n",
              "      <td>Not placed</td>\n",
              "    </tr>\n",
              "  </tbody>\n",
              "</table>\n",
              "</div>"
            ],
            "text/plain": [
              "   Roll No Gender  ... registered_for_ Placement_Training  placement status\n",
              "0        1      M  ...                                 NO        Not placed\n",
              "1        2      F  ...                                yes            Placed\n",
              "2        3      F  ...                                yes        Not placed\n",
              "3        4      M  ...                                yes        Not placed\n",
              "4        5      M  ...                                yes        Not placed\n",
              "\n",
              "[5 rows x 9 columns]"
            ]
          },
          "metadata": {
            "tags": []
          },
          "execution_count": 3
        }
      ]
    },
    {
      "cell_type": "markdown",
      "metadata": {
        "id": "vxAf4qxVrppT"
      },
      "source": [
        "##1) Central Tendency- Mean, Median, Mode"
      ]
    },
    {
      "cell_type": "markdown",
      "metadata": {
        "id": "Xywq2sZWrqwZ"
      },
      "source": [
        "###1.1) Calculate the mean & median of SSC Percentage, inter_Diploma_percentage and B.Tech_percentage"
      ]
    },
    {
      "cell_type": "code",
      "metadata": {
        "id": "SMcoWAq1r-FF",
        "outputId": "71e7b83f-73bd-4446-9e92-c9a0edb5fdbe",
        "colab": {
          "base_uri": "https://localhost:8080/",
          "height": 151
        }
      },
      "source": [
        "print(\"Mean of SSC score\",df[\"SSC Percentage\"].mean())\n",
        "print(\"Mean of inter_Diploma score\",df[\"inter_Diploma_percentage\"].mean())\n",
        "print(\"Mean of B.Tech score\",df[\"B.Tech_percentage\"].mean())\n",
        " \n",
        "print(\"\\n\")\n",
        " \n",
        "print(\"Median of SSC score\",df[\"SSC Percentage\"].median())\n",
        "print(\"Median of inter_Diploma score\",df[\"inter_Diploma_percentage\"].median())\n",
        "print(\"Median of B.Tech score\",df[\"B.Tech_percentage\"].median())"
      ],
      "execution_count": null,
      "outputs": [
        {
          "output_type": "stream",
          "text": [
            "Mean of SSC score 80.47456896551722\n",
            "Mean of inter_Diploma score 80.77290598290598\n",
            "Mean of B.Tech score 62.9434188034188\n",
            "\n",
            "\n",
            "Median of SSC score 82.745\n",
            "Median of inter_Diploma score 83.6\n",
            "Median of B.Tech score 64.36\n"
          ],
          "name": "stdout"
        }
      ]
    },
    {
      "cell_type": "markdown",
      "metadata": {
        "id": "PCf7vUkTsMKQ"
      },
      "source": [
        "##1.2)Apply mode on Gender.Are there  more maile or family"
      ]
    },
    {
      "cell_type": "code",
      "metadata": {
        "id": "Dwp74xvvsshK",
        "outputId": "78bc5115-d50b-47f8-c342-97dc3a750a80",
        "colab": {
          "base_uri": "https://localhost:8080/",
          "height": 50
        }
      },
      "source": [
        "df[\"Gender\"].mode()"
      ],
      "execution_count": null,
      "outputs": [
        {
          "output_type": "execute_result",
          "data": {
            "text/plain": [
              "0    M\n",
              "dtype: object"
            ]
          },
          "metadata": {
            "tags": []
          },
          "execution_count": 5
        }
      ]
    },
    {
      "cell_type": "markdown",
      "metadata": {
        "id": "nZUpvCG8s2zb"
      },
      "source": [
        "##2) Distribution of Data- Range, Interquartile range, Variance, Standard deviation, Correlation"
      ]
    },
    {
      "cell_type": "markdown",
      "metadata": {
        "id": "SCzz2tEttIpe"
      },
      "source": [
        "##2.1)Range"
      ]
    },
    {
      "cell_type": "markdown",
      "metadata": {
        "id": "gaPHdD12tTSb"
      },
      "source": [
        "Range defines the difference between the maximum and minimum value."
      ]
    },
    {
      "cell_type": "markdown",
      "metadata": {
        "id": "dxIE_SV-tWK-"
      },
      "source": [
        "###What is the range of SSC Percentage,inter_Diploma_percentage and B.Tech_percentage"
      ]
    },
    {
      "cell_type": "code",
      "metadata": {
        "id": "SQUAhHd9tdTJ",
        "outputId": "7d633dc7-450c-45df-9052-cb9a48e85ece",
        "colab": {
          "base_uri": "https://localhost:8080/",
          "height": 118
        }
      },
      "source": [
        "print(\"Range in SSC Score Range\",df[[\"SSC Percentage\"]].max()-df[[\"SSC Percentage\"]].min())\n",
        "print(\"Range in inter Diploma Score Range\",df[[\"inter_Diploma_percentage\"]].max()-df[[\"inter_Diploma_percentage\"]].min())\n",
        "print(\"Range in B.tech score Range\",df[[\"B.Tech_percentage\"]].max()-df[[\"B.Tech_percentage\"]].min())"
      ],
      "execution_count": null,
      "outputs": [
        {
          "output_type": "stream",
          "text": [
            "Range in SSC Score Range SSC Percentage    45.86\n",
            "dtype: float64\n",
            "Range in inter Diploma Score Range inter_Diploma_percentage    44.7\n",
            "dtype: float64\n",
            "Range in B.tech score Range B.Tech_percentage    56.9\n",
            "dtype: float64\n"
          ],
          "name": "stdout"
        }
      ]
    },
    {
      "cell_type": "markdown",
      "metadata": {
        "id": "gV7zEb9dtp9z"
      },
      "source": [
        "##2.2)Interquartile Range"
      ]
    },
    {
      "cell_type": "markdown",
      "metadata": {
        "id": "-nTRAb-_t7I3"
      },
      "source": [
        "Interquartile is difference between 25th percentile element and 75th percentile element.This is considered important because,elements less than or greater than this range may have outliers"
      ]
    },
    {
      "cell_type": "markdown",
      "metadata": {
        "id": "cxhkODe6uAwR"
      },
      "source": [
        "##Find the interquartile range of SSC percentage."
      ]
    },
    {
      "cell_type": "code",
      "metadata": {
        "id": "LSZmR1bAuM1y",
        "outputId": "c803135f-9d27-41aa-cbbe-0b69636a1204",
        "colab": {
          "base_uri": "https://localhost:8080/",
          "height": 67
        }
      },
      "source": [
        "Q1 = df['SSC Percentage'].quantile(0.25)\n",
        "print(\"Quartile 1 is\",Q1)\n",
        "Q3 = df['SSC Percentage'].quantile(0.75)\n",
        "print (\"Quartile 3 is\",Q3)\n",
        "IQR = Q3 - Q1\n",
        "print (\"The interquartile range is\",IQR)"
      ],
      "execution_count": null,
      "outputs": [
        {
          "output_type": "stream",
          "text": [
            "Quartile 1 is 76.6225\n",
            "Quartile 3 is 87.025\n",
            "The interquartile range is 10.402500000000003\n"
          ],
          "name": "stdout"
        }
      ]
    },
    {
      "cell_type": "markdown",
      "metadata": {
        "id": "QYOR8_JQvKF3"
      },
      "source": [
        "##2.3)Standard Deviation"
      ]
    },
    {
      "cell_type": "markdown",
      "metadata": {
        "id": "3bACy1AevSh1"
      },
      "source": [
        "It indicates how data is spread.A low standard deviation means that the data observations tend to be very close to the mean, while a high standard deviation indicates that the data spread over a out a target range of values."
      ]
    },
    {
      "cell_type": "markdown",
      "metadata": {
        "id": "DKWhDmU6vZUB"
      },
      "source": [
        "##Find the standard deviation of SSC Percentage,inter_Diploma_percentage and B.Tech_percentage."
      ]
    },
    {
      "cell_type": "code",
      "metadata": {
        "id": "dNYUosJMvnk6",
        "outputId": "1dd237ba-b43e-4c22-ede1-f92c18df0416",
        "colab": {
          "base_uri": "https://localhost:8080/",
          "height": 67
        }
      },
      "source": [
        "print(\"Standard deviation of SSC Score is :\",df['SSC Percentage'].std())\n",
        "print(\"Standard deviation of inter Diploma Score is :\",df['inter_Diploma_percentage'].std())\n",
        "print(\"Standard deviation of B.Tech Score is :\",df['B.Tech_percentage'].std())"
      ],
      "execution_count": 10,
      "outputs": [
        {
          "output_type": "stream",
          "text": [
            "Standard deviation of SSC Score is : 8.836078944698352\n",
            "Standard deviation of inter Diploma Score is : 11.26724785566931\n",
            "Standard deviation of B.Tech Score is : 12.064305584885746\n"
          ],
          "name": "stdout"
        }
      ]
    },
    {
      "cell_type": "markdown",
      "metadata": {
        "id": "9Vwmvqakv11f"
      },
      "source": [
        "##2.4)Variance"
      ]
    },
    {
      "cell_type": "markdown",
      "metadata": {
        "id": "gCs4oINpv4oV"
      },
      "source": [
        "Variance is simple square of standard deviation"
      ]
    },
    {
      "cell_type": "markdown",
      "metadata": {
        "id": "cacAum0OwB5Y"
      },
      "source": [
        "##Find the variance of SSC Percentage,inter_Diploma_percentage and B.Tech_percentage."
      ]
    },
    {
      "cell_type": "code",
      "metadata": {
        "id": "L0EbaS9RwV_d",
        "outputId": "b9e9bf64-1ecb-4ef2-c3be-652227413094",
        "colab": {
          "base_uri": "https://localhost:8080/",
          "height": 67
        }
      },
      "source": [
        "print(\"Variance of SSC Score is :\",df['SSC Percentage'].var())\n",
        "print(\"Variance of inter Diploma Score is :\",df['inter_Diploma_percentage'].var())\n",
        "print(\"Variance of B.Tech Score is :\",df['B.Tech_percentage'].var())"
      ],
      "execution_count": 11,
      "outputs": [
        {
          "output_type": "stream",
          "text": [
            "Variance of SSC Score is : 78.07629111694153\n",
            "Variance of inter Diploma Score is : 126.95087424108468\n",
            "Variance of B.Tech Score is : 145.54746924550543\n"
          ],
          "name": "stdout"
        }
      ]
    },
    {
      "cell_type": "markdown",
      "metadata": {
        "id": "8CGf22T0wd-W"
      },
      "source": [
        "##2.5)Correlation"
      ]
    },
    {
      "cell_type": "markdown",
      "metadata": {
        "id": "MGwQpraCw1Y6"
      },
      "source": [
        "Find the correlation between SSC Percentage, inter_Diploma_percentage and B.Tech Percentages"
      ]
    },
    {
      "cell_type": "code",
      "metadata": {
        "id": "vhI6uz58xaXj",
        "outputId": "a7020c3d-601e-4881-c882-56d9e1198fb3",
        "colab": {
          "base_uri": "https://localhost:8080/",
          "height": 136
        }
      },
      "source": [
        "df[[\"SSC Percentage\",\"inter_Diploma_percentage\",\"B.Tech_percentage\"]].corr()"
      ],
      "execution_count": 12,
      "outputs": [
        {
          "output_type": "execute_result",
          "data": {
            "text/html": [
              "<div>\n",
              "<style scoped>\n",
              "    .dataframe tbody tr th:only-of-type {\n",
              "        vertical-align: middle;\n",
              "    }\n",
              "\n",
              "    .dataframe tbody tr th {\n",
              "        vertical-align: top;\n",
              "    }\n",
              "\n",
              "    .dataframe thead th {\n",
              "        text-align: right;\n",
              "    }\n",
              "</style>\n",
              "<table border=\"1\" class=\"dataframe\">\n",
              "  <thead>\n",
              "    <tr style=\"text-align: right;\">\n",
              "      <th></th>\n",
              "      <th>SSC Percentage</th>\n",
              "      <th>inter_Diploma_percentage</th>\n",
              "      <th>B.Tech_percentage</th>\n",
              "    </tr>\n",
              "  </thead>\n",
              "  <tbody>\n",
              "    <tr>\n",
              "      <th>SSC Percentage</th>\n",
              "      <td>1.000000</td>\n",
              "      <td>0.625586</td>\n",
              "      <td>0.492849</td>\n",
              "    </tr>\n",
              "    <tr>\n",
              "      <th>inter_Diploma_percentage</th>\n",
              "      <td>0.625586</td>\n",
              "      <td>1.000000</td>\n",
              "      <td>0.729697</td>\n",
              "    </tr>\n",
              "    <tr>\n",
              "      <th>B.Tech_percentage</th>\n",
              "      <td>0.492849</td>\n",
              "      <td>0.729697</td>\n",
              "      <td>1.000000</td>\n",
              "    </tr>\n",
              "  </tbody>\n",
              "</table>\n",
              "</div>"
            ],
            "text/plain": [
              "                          SSC Percentage  ...  B.Tech_percentage\n",
              "SSC Percentage                  1.000000  ...           0.492849\n",
              "inter_Diploma_percentage        0.625586  ...           0.729697\n",
              "B.Tech_percentage               0.492849  ...           1.000000\n",
              "\n",
              "[3 rows x 3 columns]"
            ]
          },
          "metadata": {
            "tags": []
          },
          "execution_count": 12
        }
      ]
    },
    {
      "cell_type": "markdown",
      "metadata": {
        "id": "eS-jK76QxoEw"
      },
      "source": [
        "##3) Draw a box plot to demonstrate Range, Interquartile range."
      ]
    },
    {
      "cell_type": "markdown",
      "metadata": {
        "id": "BT2FSlqGxu9D"
      },
      "source": [
        "###Use a box plot to explain the performance of placed vs unplaced students in B.Tech\n"
      ]
    },
    {
      "cell_type": "code",
      "metadata": {
        "id": "ZXWI3yI2xxJA",
        "outputId": "09fc8f24-2218-4e97-dcc0-a35307359c46",
        "colab": {
          "base_uri": "https://localhost:8080/",
          "height": 297
        }
      },
      "source": [
        "sns.boxplot(x=\"placement status\",y=\"B.Tech_percentage\",data=df)"
      ],
      "execution_count": 13,
      "outputs": [
        {
          "output_type": "execute_result",
          "data": {
            "text/plain": [
              "<matplotlib.axes._subplots.AxesSubplot at 0x7fa486010f28>"
            ]
          },
          "metadata": {
            "tags": []
          },
          "execution_count": 13
        },
        {
          "output_type": "display_data",
          "data": {
            "image/png": "[encoded data removed]",
            "text/plain": [
              "<Figure size 432x288 with 1 Axes>"
            ]
          },
          "metadata": {
            "tags": [],
            "needs_background": "light"
          }
        }
      ]
    },
    {
      "cell_type": "markdown",
      "metadata": {
        "id": "9Nv4GafDx6y9"
      },
      "source": [
        "Here we observe that placed students are performing better than unplaced students *The range for unplaced students is approximately 32 to 75.\n",
        "\n",
        "*The range for placed students is approximately 65 to 88.\n",
        "\n",
        "*The interquartile range for unplaced students is approximately 55 to 65.\n",
        "\n",
        "*The interquartile range for placed students is approximately 72 to 76."
      ]
    },
    {
      "cell_type": "markdown",
      "metadata": {
        "id": "0o7a3ZCFyEhI"
      },
      "source": [
        "#4) Show the correlation between 2 variables using a scatter plot."
      ]
    },
    {
      "cell_type": "markdown",
      "metadata": {
        "id": "p8E7H0pCyMip"
      },
      "source": [
        "##Find the correlation between SSC percentage and inter_Diploma_percentage by visual inspection using a scatter plot. What type of correlation do they have between them?"
      ]
    },
    {
      "cell_type": "code",
      "metadata": {
        "id": "5LzbJitkyW-B",
        "outputId": "d191517c-8c80-42c5-c0d9-b25b509d3990",
        "colab": {
          "base_uri": "https://localhost:8080/",
          "height": 282
        }
      },
      "source": [
        "plt.scatter(df[\"SSC Percentage\"],df[\"inter_Diploma_percentage\"])"
      ],
      "execution_count": 14,
      "outputs": [
        {
          "output_type": "execute_result",
          "data": {
            "text/plain": [
              "<matplotlib.collections.PathCollection at 0x7fa484cb16a0>"
            ]
          },
          "metadata": {
            "tags": []
          },
          "execution_count": 14
        },
        {
          "output_type": "display_data",
          "data": {
            "image/png": "[encoded data removed]",
            "text/plain": [
              "<Figure size 432x288 with 1 Axes>"
            ]
          },
          "metadata": {
            "tags": [],
            "needs_background": "light"
          }
        }
      ]
    },
    {
      "cell_type": "markdown",
      "metadata": {
        "id": "UnQBLey9ygZt"
      },
      "source": [
        "There seems to be clear +be correlation between SSC Percentage and inter_Diploma_percentage."
      ]
    },
    {
      "cell_type": "markdown",
      "metadata": {
        "id": "V7s46EXwyh4J"
      },
      "source": [
        "##5) Draw a histogram to show how data is distributed."
      ]
    },
    {
      "cell_type": "markdown",
      "metadata": {
        "id": "N0lJmaGkynNY"
      },
      "source": [
        "##5.1) Draw a histogram to show the distribution of SSC percentage. Most of the people got score in which range?"
      ]
    },
    {
      "cell_type": "code",
      "metadata": {
        "id": "mo9wXdIrytzK",
        "outputId": "7eb002ba-26d9-4085-af8e-05f498a884a5",
        "colab": {
          "base_uri": "https://localhost:8080/",
          "height": 313
        }
      },
      "source": [
        "bins=np.linspace(0,110,12)\n",
        "print(bins)\n",
        "plt.hist(df[\"SSC Percentage\"],bins,width=8)\n",
        "plt.xlabel(\"SSC Percentage\")"
      ],
      "execution_count": 15,
      "outputs": [
        {
          "output_type": "stream",
          "text": [
            "[  0.  10.  20.  30.  40.  50.  60.  70.  80.  90. 100. 110.]\n"
          ],
          "name": "stdout"
        },
        {
          "output_type": "execute_result",
          "data": {
            "text/plain": [
              "Text(0.5, 0, 'SSC Percentage')"
            ]
          },
          "metadata": {
            "tags": []
          },
          "execution_count": 15
        },
        {
          "output_type": "display_data",
          "data": {
            "image/png": "[encoded data removed]",
            "text/plain": [
              "<Figure size 432x288 with 1 Axes>"
            ]
          },
          "metadata": {
            "tags": [],
            "needs_background": "light"
          }
        }
      ]
    },
    {
      "cell_type": "markdown",
      "metadata": {
        "id": "2s9MdozJzE7h"
      },
      "source": [
        "###Most of the people got ssc percentage 80-90"
      ]
    },
    {
      "cell_type": "markdown",
      "metadata": {
        "id": "PziUICIez4Zv"
      },
      "source": [
        "##5.2) Draw a histogram to show the distribution of B.Tech percentage. Most of the people got a score in which range?"
      ]
    },
    {
      "cell_type": "code",
      "metadata": {
        "id": "KWOJDbV-0IHl",
        "outputId": "b88d0482-7704-4ff4-db8b-1f6d638984ad",
        "colab": {
          "base_uri": "https://localhost:8080/",
          "height": 314
        }
      },
      "source": [
        "bins=np.linspace(0,110,12)\n",
        "print(bins)\n",
        "plt.hist(df[\"B.Tech_percentage\"],bins,width=8)\n",
        "plt.xlabel(\"B.Tech_percentage\")"
      ],
      "execution_count": 16,
      "outputs": [
        {
          "output_type": "stream",
          "text": [
            "[  0.  10.  20.  30.  40.  50.  60.  70.  80.  90. 100. 110.]\n"
          ],
          "name": "stdout"
        },
        {
          "output_type": "execute_result",
          "data": {
            "text/plain": [
              "Text(0.5, 0, 'B.Tech_percentage')"
            ]
          },
          "metadata": {
            "tags": []
          },
          "execution_count": 16
        },
        {
          "output_type": "display_data",
          "data": {
            "image/png": "[encoded data removed]",
            "text/plain": [
              "<Figure size 432x288 with 1 Axes>"
            ]
          },
          "metadata": {
            "tags": [],
            "needs_background": "light"
          }
        }
      ]
    },
    {
      "cell_type": "markdown",
      "metadata": {
        "id": "z48qW2xv0RC3"
      },
      "source": [
        "###Most of the people got B.Tech_percentage in range of 70-80¶"
      ]
    },
    {
      "cell_type": "markdown",
      "metadata": {
        "id": "p8W69eWY0WBK"
      },
      "source": [
        "##5.3) Draw a histogram to show the distribution of Intermediate percentage. Most of the people got score in which range?"
      ]
    },
    {
      "cell_type": "code",
      "metadata": {
        "id": "fuJGSVjN0jht",
        "outputId": "7776ea53-917d-47f3-9819-ca980e3e65e1",
        "colab": {
          "base_uri": "https://localhost:8080/",
          "height": 314
        }
      },
      "source": [
        "bins=np.linspace(0,110,12)\n",
        "print(bins)\n",
        "plt.hist(df[\"inter_Diploma_percentage\"],bins,width=8)\n",
        "plt.xlabel(\"inter_Diploma_percentage\")"
      ],
      "execution_count": 17,
      "outputs": [
        {
          "output_type": "stream",
          "text": [
            "[  0.  10.  20.  30.  40.  50.  60.  70.  80.  90. 100. 110.]\n"
          ],
          "name": "stdout"
        },
        {
          "output_type": "execute_result",
          "data": {
            "text/plain": [
              "Text(0.5, 0, 'inter_Diploma_percentage')"
            ]
          },
          "metadata": {
            "tags": []
          },
          "execution_count": 17
        },
        {
          "output_type": "display_data",
          "data": {
            "image/png": "[encoded data removed]",
            "text/plain": [
              "<Figure size 432x288 with 1 Axes>"
            ]
          },
          "metadata": {
            "tags": [],
            "needs_background": "light"
          }
        }
      ]
    },
    {
      "cell_type": "markdown",
      "metadata": {
        "id": "lxznsbNv0rdp"
      },
      "source": [
        "Most of the people got intermediate percentage in range of 80-90"
      ]
    },
    {
      "cell_type": "markdown",
      "metadata": {
        "id": "ABNjdwWo0z2C"
      },
      "source": [
        "##6) For the given data, show which attributes as a) continuous b) Ordered c) Binary"
      ]
    },
    {
      "cell_type": "code",
      "metadata": {
        "id": "7lKRVX0P0xql",
        "outputId": "1967a56e-56f9-48d3-ca44-948303644e61",
        "colab": {
          "base_uri": "https://localhost:8080/",
          "height": 185
        }
      },
      "source": [
        "df.nunique()"
      ],
      "execution_count": 18,
      "outputs": [
        {
          "output_type": "execute_result",
          "data": {
            "text/plain": [
              "Roll No                               117\n",
              "Gender                                  2\n",
              "Section                                 2\n",
              "SSC Percentage                         88\n",
              "inter_Diploma_percentage               99\n",
              "B.Tech_percentage                     106\n",
              "Backlogs                               22\n",
              "registered_for_ Placement_Training      2\n",
              "placement status                        2\n",
              "dtype: int64"
            ]
          },
          "metadata": {
            "tags": []
          },
          "execution_count": 18
        }
      ]
    },
    {
      "cell_type": "markdown",
      "metadata": {
        "id": "IqEeOMnJ1B16"
      },
      "source": [
        "From the above Data,it is clear that Gender,Section,registered_for_Placement_Training,Placement status are binary attributes because they take only 2"
      ]
    },
    {
      "cell_type": "code",
      "metadata": {
        "id": "9WYwJCAz1FyN",
        "outputId": "a97d740d-e45d-4ec5-b42b-b0524ce52357",
        "colab": {
          "base_uri": "https://localhost:8080/",
          "height": 185
        }
      },
      "source": [
        "df.dtypes"
      ],
      "execution_count": 19,
      "outputs": [
        {
          "output_type": "execute_result",
          "data": {
            "text/plain": [
              "Roll No                                 int64\n",
              "Gender                                 object\n",
              "Section                                object\n",
              "SSC Percentage                        float64\n",
              "inter_Diploma_percentage              float64\n",
              "B.Tech_percentage                     float64\n",
              "Backlogs                                int64\n",
              "registered_for_ Placement_Training     object\n",
              "placement status                       object\n",
              "dtype: object"
            ]
          },
          "metadata": {
            "tags": []
          },
          "execution_count": 19
        }
      ]
    },
    {
      "cell_type": "markdown",
      "metadata": {
        "id": "3JgpUp4b1N-4"
      },
      "source": [
        "SSC Percentage,inter_Diploma_percentage and B.Tech_percentage are continuous and ordinal attributes.\n",
        "\n",
        "Backlogs can be ordianal.It cannot take float value and there will be a limiton number of backlogs."
      ]
    }
  ]
}